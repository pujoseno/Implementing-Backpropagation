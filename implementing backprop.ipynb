{
 "cells": [
  {
   "cell_type": "code",
   "execution_count": 36,
   "metadata": {},
   "outputs": [],
   "source": [
    "import numpy as np \n",
    "import tensorflow as tf"
   ]
  },
  {
   "cell_type": "code",
   "execution_count": 37,
   "metadata": {},
   "outputs": [],
   "source": [
    "sess = tf.Session()"
   ]
  },
  {
   "cell_type": "code",
   "execution_count": 38,
   "metadata": {},
   "outputs": [],
   "source": [
    "x_vals = np.random.normal(1, 0.1, 100) \n",
    "y_vals = np.repeat(10., 100) \n",
    "x_data = tf.placeholder(shape=[1], dtype=tf.float32) \n",
    "y_target = tf.placeholder(shape=[1], dtype=tf.float32) \n",
    "A = tf.Variable(tf.random_normal(shape=[1]))"
   ]
  },
  {
   "cell_type": "code",
   "execution_count": 39,
   "metadata": {},
   "outputs": [],
   "source": [
    "my_output = tf.multiply(x_data, A)"
   ]
  },
  {
   "cell_type": "code",
   "execution_count": 40,
   "metadata": {},
   "outputs": [],
   "source": [
    "loss = tf.square(my_output - y_target)"
   ]
  },
  {
   "cell_type": "code",
   "execution_count": 41,
   "metadata": {},
   "outputs": [],
   "source": [
    "init = tf.initialize_all_variables() \n",
    "sess.run(init)"
   ]
  },
  {
   "cell_type": "code",
   "execution_count": 42,
   "metadata": {},
   "outputs": [],
   "source": [
    "my_opt = tf.train.GradientDescentOptimizer(learning_rate=0.02) \n",
    "train_step = my_opt.minimize(loss)"
   ]
  },
  {
   "cell_type": "code",
   "execution_count": 47,
   "metadata": {},
   "outputs": [
    {
     "name": "stdout",
     "output_type": "stream",
     "text": [
      "Step #25 A = [10.15203]\n",
      "Loss = [0.00057263]\n",
      "Step #50 A = [9.61337]\n",
      "Loss = [1.3620443]\n",
      "Step #75 A = [9.800864]\n",
      "Loss = [0.00731934]\n",
      "Step #100 A = [9.729551]\n",
      "Loss = [3.0841105]\n"
     ]
    }
   ],
   "source": [
    "for i in range(100):    \n",
    "    rand_index = np.random.choice(100)    \n",
    "    rand_x = [x_vals[rand_index]]    \n",
    "    rand_y = [y_vals[rand_index]]    \n",
    "    sess.run(train_step, feed_dict={x_data: rand_x, y_target: rand_y})    \n",
    "    if (i+1)%25==0: \n",
    "        print('Step #' + str(i+1) + ' A = ' + str(sess.run(A)))        \n",
    "        print('Loss = ' + str(sess.run(loss, feed_dict= {x_data: rand_x, y_target: rand_y}))) "
   ]
  },
  {
   "cell_type": "code",
   "execution_count": 14,
   "metadata": {},
   "outputs": [],
   "source": [
    "from tensorflow.python.framework import ops \n",
    "ops.reset_default_graph() \n",
    "sess = tf.Session()\n",
    "x_vals = np.concatenate((np.random.normal(-1, 1, 50), np.random.normal(3, 1, 50))) \n",
    "y_vals = np.concatenate((np.repeat(0., 50), np.repeat(1., 50))) \n",
    "x_data = tf.placeholder(shape=[1], dtype=tf.float32) \n",
    "y_target = tf.placeholder(shape=[1], dtype=tf.float32)\n",
    "A = tf.Variable(tf.random_normal(mean=10, shape=[1]))"
   ]
  },
  {
   "cell_type": "code",
   "execution_count": 15,
   "metadata": {},
   "outputs": [],
   "source": [
    "x_vals = np.concatenate((np.random.normal(-1, 1, 50), np.random.normal(3, 1, 50))) \n",
    "y_vals = np.concatenate((np.repeat(0., 50), np.repeat(1., 50))) \n",
    "x_data = tf.placeholder(shape=[1], dtype=tf.float32) \n",
    "y_target = tf.placeholder(shape=[1], dtype=tf.float32)\n",
    "A = tf.Variable(tf.random_normal(mean=10, shape=[1]))"
   ]
  },
  {
   "cell_type": "code",
   "execution_count": 16,
   "metadata": {},
   "outputs": [],
   "source": [
    "my_output = tf.add(x_data, A)"
   ]
  },
  {
   "cell_type": "code",
   "execution_count": 17,
   "metadata": {},
   "outputs": [],
   "source": [
    "my_output_expanded = tf.expand_dims(my_output, 0) \n",
    "y_target_expanded = tf.expand_dims(y_target, 0)"
   ]
  },
  {
   "cell_type": "code",
   "execution_count": 18,
   "metadata": {},
   "outputs": [],
   "source": [
    "init = tf.initialize_all_variables() \n",
    "sess.run(init)"
   ]
  },
  {
   "cell_type": "code",
   "execution_count": 20,
   "metadata": {},
   "outputs": [],
   "source": [
    "xentropy = tf.nn.sigmoid_cross_entropy_with_logits( labels = my_output_expanded, logits = y_target_expanded)"
   ]
  },
  {
   "cell_type": "code",
   "execution_count": 21,
   "metadata": {},
   "outputs": [],
   "source": [
    "my_opt = tf.train.GradientDescentOptimizer(0.05) \n",
    "train_step = my_opt.minimize(xentropy)"
   ]
  },
  {
   "cell_type": "code",
   "execution_count": 24,
   "metadata": {},
   "outputs": [
    {
     "name": "stdout",
     "output_type": "stream",
     "text": [
      "Step #200 A = [15.346574]\n",
      "Loss = [[-15.571952]]\n",
      "Step #400 A = [20.39651]\n",
      "Loss = [[-22.285715]]\n",
      "Step #600 A = [25.046438]\n",
      "Loss = [[0.6931472]]\n",
      "Step #800 A = [29.796366]\n",
      "Loss = [[0.6931472]]\n",
      "Step #1000 A = [35.046288]\n",
      "Loss = [[-35.617138]]\n",
      "Step #1200 A = [39.54622]\n",
      "Loss = [[0.6931472]]\n",
      "Step #1400 A = [44.846138]\n",
      "Loss = [[0.6931472]]\n"
     ]
    }
   ],
   "source": [
    "for i in range(1400):    \n",
    "    rand_index = np.random.choice(100)    \n",
    "    rand_x = [x_vals[rand_index]]    \n",
    "    rand_y = [y_vals[rand_index]]        \n",
    "    sess.run(train_step, feed_dict={x_data: rand_x, y_target: rand_y})    \n",
    "    if (i+1)%200==0:        \n",
    "        print('Step #' + str(i+1) + ' A = ' + str(sess.run(A)))        \n",
    "        print('Loss = ' + str(sess.run(xentropy, feed_dict= {x_data: rand_x, y_target: rand_y}))) "
   ]
  },
  {
   "cell_type": "code",
   "execution_count": null,
   "metadata": {},
   "outputs": [],
   "source": []
  }
 ],
 "metadata": {
  "kernelspec": {
   "display_name": "Python 3",
   "language": "python",
   "name": "python3"
  },
  "language_info": {
   "codemirror_mode": {
    "name": "ipython",
    "version": 3
   },
   "file_extension": ".py",
   "mimetype": "text/x-python",
   "name": "python",
   "nbconvert_exporter": "python",
   "pygments_lexer": "ipython3",
   "version": "3.5.5"
  }
 },
 "nbformat": 4,
 "nbformat_minor": 2
}
